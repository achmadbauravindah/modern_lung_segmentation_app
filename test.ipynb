{
 "cells": [
  {
   "cell_type": "code",
   "execution_count": 3,
   "metadata": {},
   "outputs": [
    {
     "data": {
      "image/png": "[encoded data removed]",
      "text/plain": [
       "<PIL.Image.Image image mode=L size=256x256>"
      ]
     },
     "execution_count": 3,
     "metadata": {},
     "output_type": "execute_result"
    }
   ],
   "source": [
    "import numpy as np\n",
    "from tensorflow.keras.utils import load_img, img_to_array, array_to_img\n",
    "import matplotlib.pyplot as plt\n",
    "import tensorflow as tf\n",
    "import cv2\n",
    "\n",
    "\n",
    "def overlapMask(model_name):\n",
    "    # Get Array Image =\n",
    "    image_to_predict = img_to_array(load_img('./sample_images/image_to_predict.bmp', color_mode='grayscale', target_size=(256, 256))).astype('float32')/255.0\n",
    "    gt_image = np.squeeze(img_to_array(load_img('./sample_images/ground_truth.bmp', color_mode='grayscale', target_size=(256, 256))).astype('float32'))/255.0\n",
    "    # Reshape to model.predict\n",
    "    image_arr_reshape = image_to_predict[np.newaxis, ...]\n",
    "    # Load Model\n",
    "    model = tf.keras.models.load_model('./models/{}/{}.h5'.format(model_name, model_name), compile=False)\n",
    "    # Get Segmentation (Predicted Images)\n",
    "    mask_arr = model.predict(image_arr_reshape, verbose=0)\n",
    "    # To Binary\n",
    "    gt_image = (gt_image > 0.5).astype('float32')\n",
    "    mask_arr = (mask_arr > 0.5).astype('float32')\n",
    "    # Reduce The Dimension\n",
    "    mask_arr = np.squeeze(mask_arr)\n",
    "    # Overlap\n",
    "    gt_image[gt_image != mask_arr] = 0.5\n",
    "    return array_to_img(np.expand_dims(gt_image, axis=2))\n",
    "\n",
    "overlapMask('UNet')\n"
   ]
  }
 ],
 "metadata": {
  "kernelspec": {
   "display_name": "kuliah",
   "language": "python",
   "name": "python3"
  },
  "language_info": {
   "codemirror_mode": {
    "name": "ipython",
    "version": 3
   },
   "file_extension": ".py",
   "mimetype": "text/x-python",
   "name": "python",
   "nbconvert_exporter": "python",
   "pygments_lexer": "ipython3",
   "version": "3.10.6"
  },
  "orig_nbformat": 4
 },
 "nbformat": 4,
 "nbformat_minor": 2
}
